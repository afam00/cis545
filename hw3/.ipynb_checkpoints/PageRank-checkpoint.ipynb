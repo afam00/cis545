{
 "cells": [
  {
   "cell_type": "markdown",
   "metadata": {},
   "source": [
    "# Homework 3, Basic: Part 3, PageRank\n",
    "\n",
    "### Part 3: PageRank (Worth 50 points)\n",
    "\n",
    "Recall that PageRank can be modeled using matrix operations as follows.  Let $M$ be a _weight transfer matrix_ in which:\n",
    "\n",
    "$M[i,j] = \\frac{1}{n_j}$, if $n_j > 0$ and \n",
    "\n",
    "$M[i,j] = 0$ otherwise\n",
    "\n",
    "where page $i$ is pointed to by page $j$ and page $j$ has $n_j$ outgoing links. And define a _dampening factor_ $\\alpha = 0.85$ and a corresponding $\\beta = 1 - \\alpha$.  Initialize the PageRank vector\n",
    "\n",
    "$PR^{(0)}=[1,1,1,\\ldots]^T$\n",
    "\n",
    "(i.e., a matrix with m rows by 1 column, filled with ones).  Then we can compute the PageRank $PR$ for each iteration as:\n",
    "\n",
    "$PR^{(i)}= \\alpha \\cdot M \\cdot PR^{(i-1)} + \\beta \\cdot [1,1,1,\\ldots]^T$"
   ]
  },
  {
   "cell_type": "markdown",
   "metadata": {},
   "source": [
    "### Step 3.1 Download a Web Graph\n",
    "The following code retrieves a web graph from https://snap.stanford.edu/data/web-NotreDame.txt.gz, which is a reasonably sized Web crawl done by Notre Dame University, and extracts it into `web-NotreDame.txt`.  Run the program to acquire your Web graph.\n"
   ]
  },
  {
   "cell_type": "code",
   "execution_count": 1,
   "metadata": {},
   "outputs": [
    {
     "name": "stdout",
     "output_type": "stream",
     "text": [
      "Downloading compressed image of web-NotreDame.txt\n",
      "Saved web-NotreDame.txt\n"
     ]
    }
   ],
   "source": [
    "# Download and decompress data into your Jupyter environment\n",
    "\n",
    "import urllib.request\n",
    "import io\n",
    "import gzip\n",
    "\n",
    "\n",
    "for file in ['web-NotreDame.txt']:\n",
    "    print ('Downloading compressed image of', file)\n",
    "    source = urllib.request.urlopen(\"https://snap.stanford.edu/data/\" + file + \".gz\")\n",
    "    compressedFile = io.BytesIO(source.read())\n",
    "    decompressedFile = gzip.GzipFile(fileobj=compressedFile)\n",
    "\n",
    "    with open(file, 'wb') as outfile:\n",
    "        outfile.write(decompressedFile.read())\n",
    "        outfile.close()\n",
    "        print ('Saved', file)\n"
   ]
  },
  {
   "cell_type": "markdown",
   "metadata": {},
   "source": [
    "### Step 3.2 Load the Notre Dame Web Graph into a Matrix\n",
    "\n",
    "Next, write Python code to take the data from `web-NotreDame.txt`, read and parse the rows in a Pandas DataFrame (not a Spark DataFrame!).  Restrict the node IDs to values less than 10,000.\n",
    "\n",
    "_Hints: If you use_ `read_csv`_, you may need to look at the_ `sep` _and_ `skiprows` _options.  Also take a look at the raw data and make sure you know how many rows don't contain data, and how the items are separated.  "
   ]
  },
  {
   "cell_type": "code",
   "execution_count": 2,
   "metadata": {},
   "outputs": [],
   "source": [
    "# TODO: In this cell, store the data from web-NotreDame.txt in graph_df\n",
    "# Worth 10 points\n",
    "\n",
    "# YOUR CODE HERE\n",
    "import pandas as pd\n",
    "\n",
    "graph_df = pd.read_csv('web-NotreDame.txt', sep='\\t', skiprows=4, names=('FromNodeId','ToNodeId'))\n",
    "graph_df = graph_df[graph_df.FromNodeId < 10000]\n",
    "graph_df = graph_df[graph_df.ToNodeId < 10000]"
   ]
  },
  {
   "cell_type": "code",
   "execution_count": 3,
   "metadata": {},
   "outputs": [],
   "source": [
    "if graph_df.shape[1] != 2:\n",
    "    raise ValueError('Incorrect number of columns')"
   ]
  },
  {
   "cell_type": "code",
   "execution_count": 4,
   "metadata": {},
   "outputs": [
    {
     "data": {
      "text/plain": [
       "(37841, 2)"
      ]
     },
     "execution_count": 4,
     "metadata": {},
     "output_type": "execute_result"
    }
   ],
   "source": [
    "graph_df.shape"
   ]
  },
  {
   "cell_type": "markdown",
   "metadata": {},
   "source": [
    "Create a weight transfer matrix M corresponding to the Web graph, with edges whose weights are scaled as per the PageRank definition of a weight transfer matrix.  This will form an input into your PageRank algorithm.  Note that the dataset already includes node IDs that go from $0,\\ldots,m$, so you can directly use the node IDs as indices in your matrix.  You should not use for loops, and instead, use the DataFrame and array functions that Pandas and NumPy provide as they are much more efficient.\n",
    "\n",
    "When building $M$, you may need to build some \"auxiliary\" data structures to speed up performance, e.g., to quickly look up weights associated with node edges.  Note that lookup in an array is typically faster than lookup in a DataFrame.  Finally, you might want to use the_ `apply` _function for Pandas DataFrames or Numpy Matrices as they are orders of magnitude faster than trying to iterate through every row.  However, this is not a requirement -- just make sure you aren’t using for loops!_"
   ]
  },
  {
   "cell_type": "code",
   "execution_count": 5,
   "metadata": {},
   "outputs": [],
   "source": [
    "# TODO: Create the M matrix in this cell\n",
    "# Worth 20 points\n",
    "\n",
    "# YOUR CODE HERE\n",
    "import numpy as np\n",
    "\n",
    "# calculate weight associated with each node edge\n",
    "weights = graph_df.groupby('FromNodeId')['ToNodeId'].nunique().apply(lambda x: 1/x)\n",
    "graph_df_new = graph_df.join(weights,on='FromNodeId',how='left',lsuffix='',rsuffix='_weights')\n",
    "\n",
    "# build weight transfer matrix\n",
    "M = np.zeros((10000,10000))\n",
    "rows = np.array([graph_df_new['ToNodeId']], dtype=np.intp) # row indices\n",
    "cols = np.array([graph_df_new['FromNodeId']], dtype=np.intp) # column indices\n",
    "weights = np.array([graph_df_new['ToNodeId_weights']]) # weight values for each node ID\n",
    "M[rows,cols] = weights"
   ]
  },
  {
   "cell_type": "code",
   "execution_count": 6,
   "metadata": {},
   "outputs": [
    {
     "data": {
      "text/plain": [
       "array([[ 0.        ,  0.        ,  0.        ,  0.        ,  0.        ,\n",
       "         0.        ,  0.        ,  0.        ,  0.        ,  0.        ,\n",
       "         0.        ,  0.        ,  0.        ,  0.        ,  0.        ,\n",
       "         0.        ,  0.        ,  0.        ,  0.        ,  0.        ],\n",
       "       [ 0.        ,  0.        ,  0.        ,  0.        ,  0.        ,\n",
       "         0.        ,  0.        ,  0.        ,  0.        ,  0.        ,\n",
       "         0.        ,  0.        ,  0.        ,  0.        ,  0.        ,\n",
       "         0.        ,  0.        ,  0.        ,  0.        ,  0.        ],\n",
       "       [ 0.        ,  0.        ,  0.        ,  0.        ,  0.        ,\n",
       "         0.        ,  0.        ,  0.        ,  0.        ,  0.        ,\n",
       "         0.        ,  0.        ,  0.        ,  0.        ,  0.        ,\n",
       "         0.        ,  0.        ,  0.        ,  0.        ,  0.        ],\n",
       "       [ 0.        ,  0.        ,  0.        ,  0.        ,  0.        ,\n",
       "         0.        ,  0.        ,  0.        ,  0.        ,  0.        ,\n",
       "         0.        ,  0.        ,  0.        ,  0.        ,  0.        ,\n",
       "         0.        ,  0.        ,  0.        ,  0.        ,  0.        ],\n",
       "       [ 0.01298701,  0.01818182,  0.        ,  0.        ,  0.        ,\n",
       "         0.        ,  0.        ,  0.        ,  0.        ,  0.        ,\n",
       "         0.        ,  0.        ,  0.        ,  0.        ,  0.        ,\n",
       "         0.        ,  0.        ,  0.        ,  0.        ,  0.        ],\n",
       "       [ 0.01298701,  0.        ,  0.        ,  0.        ,  0.        ,\n",
       "         0.        ,  0.        ,  0.        ,  0.        ,  0.        ,\n",
       "         0.        ,  0.        ,  0.        ,  0.        ,  0.        ,\n",
       "         0.        ,  0.        ,  0.        ,  0.        ,  0.        ],\n",
       "       [ 0.01298701,  0.        ,  0.        ,  0.        ,  0.        ,\n",
       "         0.        ,  0.        ,  0.        ,  0.        ,  0.        ,\n",
       "         0.        ,  0.        ,  0.        ,  0.        ,  0.        ,\n",
       "         0.        ,  0.        ,  0.        ,  0.        ,  0.        ],\n",
       "       [ 0.        ,  0.        ,  0.        ,  0.        ,  0.        ,\n",
       "         0.        ,  0.        ,  0.        ,  0.        ,  0.0106383 ,\n",
       "         0.00414938,  0.        ,  0.        ,  0.07142857,  0.07142857,\n",
       "         0.03846154,  0.09090909,  0.07692308,  0.        ,  0.        ],\n",
       "       [ 0.        ,  0.        ,  0.        ,  0.        ,  0.        ,\n",
       "         0.        ,  0.        ,  0.        ,  0.        ,  0.        ,\n",
       "         0.        ,  0.        ,  0.        ,  0.        ,  0.        ,\n",
       "         0.        ,  0.        ,  0.        ,  0.        ,  0.        ],\n",
       "       [ 0.        ,  0.        ,  0.        ,  0.        ,  0.        ,\n",
       "         0.        ,  0.        ,  0.        ,  0.        ,  0.0106383 ,\n",
       "         0.00414938,  0.        ,  0.        ,  0.07142857,  0.07142857,\n",
       "         0.03846154,  0.09090909,  0.07692308,  0.        ,  0.        ],\n",
       "       [ 0.        ,  0.        ,  0.        ,  0.        ,  0.        ,\n",
       "         0.        ,  0.        ,  0.        ,  0.        ,  0.0106383 ,\n",
       "         0.00414938,  0.        ,  0.        ,  0.07142857,  0.07142857,\n",
       "         0.03846154,  0.09090909,  0.07692308,  0.        ,  0.        ],\n",
       "       [ 0.        ,  0.        ,  0.        ,  0.        ,  0.        ,\n",
       "         0.        ,  0.        ,  0.        ,  0.        ,  0.0106383 ,\n",
       "         0.00414938,  0.08333333,  0.        ,  0.07142857,  0.07142857,\n",
       "         0.03846154,  0.09090909,  0.07692308,  0.        ,  0.        ],\n",
       "       [ 0.        ,  0.        ,  0.        ,  0.        ,  0.        ,\n",
       "         0.        ,  0.        ,  0.        ,  0.        ,  0.        ,\n",
       "         0.        ,  0.        ,  0.        ,  0.        ,  0.        ,\n",
       "         0.        ,  0.        ,  0.        ,  0.        ,  0.        ],\n",
       "       [ 0.        ,  0.        ,  0.        ,  0.        ,  0.        ,\n",
       "         0.        ,  0.        ,  0.        ,  0.        ,  0.0106383 ,\n",
       "         0.00414938,  0.        ,  0.        ,  0.07142857,  0.07142857,\n",
       "         0.03846154,  0.09090909,  0.07692308,  0.        ,  0.        ],\n",
       "       [ 0.        ,  0.        ,  0.        ,  0.        ,  0.        ,\n",
       "         0.        ,  0.        ,  0.        ,  0.        ,  0.0106383 ,\n",
       "         0.00414938,  0.        ,  0.        ,  0.07142857,  0.07142857,\n",
       "         0.03846154,  0.09090909,  0.07692308,  0.        ,  0.        ],\n",
       "       [ 0.        ,  0.        ,  0.        ,  0.        ,  0.        ,\n",
       "         0.        ,  0.        ,  0.        ,  0.        ,  0.0106383 ,\n",
       "         0.00414938,  0.        ,  0.        ,  0.07142857,  0.07142857,\n",
       "         0.03846154,  0.09090909,  0.07692308,  0.        ,  0.        ],\n",
       "       [ 0.        ,  0.        ,  0.        ,  0.        ,  0.        ,\n",
       "         0.        ,  0.        ,  0.        ,  0.        ,  0.        ,\n",
       "         0.        ,  0.        ,  0.        ,  0.        ,  0.        ,\n",
       "         0.        ,  0.        ,  0.        ,  0.        ,  0.        ],\n",
       "       [ 0.        ,  0.        ,  0.        ,  0.        ,  0.        ,\n",
       "         0.        ,  0.        ,  0.        ,  0.        ,  0.0106383 ,\n",
       "         0.00414938,  0.        ,  0.        ,  0.07142857,  0.07142857,\n",
       "         0.03846154,  0.09090909,  0.07692308,  0.        ,  0.        ],\n",
       "       [ 0.        ,  0.        ,  0.        ,  0.        ,  0.        ,\n",
       "         0.        ,  0.        ,  0.        ,  0.        ,  0.        ,\n",
       "         0.        ,  0.        ,  0.        ,  0.        ,  0.        ,\n",
       "         0.        ,  0.        ,  0.        ,  0.        ,  0.        ],\n",
       "       [ 0.        ,  0.        ,  0.        ,  0.        ,  0.        ,\n",
       "         0.        ,  0.        ,  0.        ,  0.        ,  0.0106383 ,\n",
       "         0.00414938,  0.        ,  0.        ,  0.07142857,  0.07142857,\n",
       "         0.03846154,  0.09090909,  0.07692308,  0.        ,  0.        ]])"
      ]
     },
     "execution_count": 6,
     "metadata": {},
     "output_type": "execute_result"
    }
   ],
   "source": [
    "M[10:30,10:30]"
   ]
  },
  {
   "cell_type": "code",
   "execution_count": 7,
   "metadata": {},
   "outputs": [],
   "source": [
    "if M.shape != (10000,10000):\n",
    "    raise ValueError(\"Incorrect Matrix dimensions\")"
   ]
  },
  {
   "cell_type": "code",
   "execution_count": null,
   "metadata": {},
   "outputs": [],
   "source": []
  },
  {
   "cell_type": "code",
   "execution_count": null,
   "metadata": {},
   "outputs": [],
   "source": []
  },
  {
   "cell_type": "code",
   "execution_count": null,
   "metadata": {},
   "outputs": [],
   "source": []
  },
  {
   "cell_type": "code",
   "execution_count": null,
   "metadata": {},
   "outputs": [],
   "source": []
  },
  {
   "cell_type": "markdown",
   "metadata": {},
   "source": [
    "### Step 3.3 Compute Matrix-Based PageRank\n",
    "Implement a function `pagerank(M, alpha, num_iter)` that, when given a square $m \\times m$ transition matrix $M$ from Step 3.2, initializes the PageRank vector to $m$ 1’s, sets $\\alpha$ = `alpha`, sets $\\beta$ appropriately given $\\alpha$, and iterates `num_iter` times.  Return an $m$-element vector that consists of the final PageRank scores."
   ]
  },
  {
   "cell_type": "code",
   "execution_count": 8,
   "metadata": {},
   "outputs": [],
   "source": [
    "# TODO:\n",
    "# Write your pagerank function into this cell\n",
    "# Worth 15 points\n",
    "\n",
    "# YOUR CODE HERE\n",
    "def pagerank(M, alpha, num_iter):\n",
    "    beta = 1-alpha\n",
    "    pr = np.ones((len(M)))\n",
    "    \n",
    "    for i in range(0,num_iter):\n",
    "        pr_temp = pr\n",
    "        pr = alpha * np.dot(M,pr_temp) + beta\n",
    "    \n",
    "    return pr"
   ]
  },
  {
   "cell_type": "code",
   "execution_count": 9,
   "metadata": {},
   "outputs": [
    {
     "data": {
      "text/plain": [
       "array([  2.24702638e+02,   2.79759111e+01,   1.14034108e+01, ...,\n",
       "         1.57231541e-01,   1.57231541e-01,   1.57231541e-01])"
      ]
     },
     "execution_count": 9,
     "metadata": {},
     "output_type": "execute_result"
    }
   ],
   "source": [
    "pr = pagerank(M, 0.85, 15)\n",
    "\n",
    "pr"
   ]
  },
  {
   "cell_type": "markdown",
   "metadata": {},
   "source": [
    "Output a DataFrame called `best_pages_df` with the schema `(id, pagerank)` containing the original IDs and PageRanks of the 10 nodes with highest PageRank, in descending order."
   ]
  },
  {
   "cell_type": "code",
   "execution_count": 10,
   "metadata": {},
   "outputs": [
    {
     "data": {
      "text/html": [
       "<div>\n",
       "<style scoped>\n",
       "    .dataframe tbody tr th:only-of-type {\n",
       "        vertical-align: middle;\n",
       "    }\n",
       "\n",
       "    .dataframe tbody tr th {\n",
       "        vertical-align: top;\n",
       "    }\n",
       "\n",
       "    .dataframe thead th {\n",
       "        text-align: right;\n",
       "    }\n",
       "</style>\n",
       "<table border=\"1\" class=\"dataframe\">\n",
       "  <thead>\n",
       "    <tr style=\"text-align: right;\">\n",
       "      <th></th>\n",
       "      <th>id</th>\n",
       "      <th>pagerank</th>\n",
       "    </tr>\n",
       "  </thead>\n",
       "  <tbody>\n",
       "    <tr>\n",
       "      <th>0</th>\n",
       "      <td>0</td>\n",
       "      <td>224.702638</td>\n",
       "    </tr>\n",
       "    <tr>\n",
       "      <th>1</th>\n",
       "      <td>1973</td>\n",
       "      <td>189.250314</td>\n",
       "    </tr>\n",
       "    <tr>\n",
       "      <th>2</th>\n",
       "      <td>1790</td>\n",
       "      <td>53.438593</td>\n",
       "    </tr>\n",
       "    <tr>\n",
       "      <th>3</th>\n",
       "      <td>1828</td>\n",
       "      <td>50.954873</td>\n",
       "    </tr>\n",
       "    <tr>\n",
       "      <th>4</th>\n",
       "      <td>1</td>\n",
       "      <td>27.975911</td>\n",
       "    </tr>\n",
       "    <tr>\n",
       "      <th>5</th>\n",
       "      <td>238</td>\n",
       "      <td>26.779136</td>\n",
       "    </tr>\n",
       "    <tr>\n",
       "      <th>6</th>\n",
       "      <td>140</td>\n",
       "      <td>23.520898</td>\n",
       "    </tr>\n",
       "    <tr>\n",
       "      <th>7</th>\n",
       "      <td>14</td>\n",
       "      <td>22.232264</td>\n",
       "    </tr>\n",
       "    <tr>\n",
       "      <th>8</th>\n",
       "      <td>16</td>\n",
       "      <td>21.591054</td>\n",
       "    </tr>\n",
       "    <tr>\n",
       "      <th>9</th>\n",
       "      <td>162</td>\n",
       "      <td>18.283386</td>\n",
       "    </tr>\n",
       "  </tbody>\n",
       "</table>\n",
       "</div>"
      ],
      "text/plain": [
       "     id    pagerank\n",
       "0     0  224.702638\n",
       "1  1973  189.250314\n",
       "2  1790   53.438593\n",
       "3  1828   50.954873\n",
       "4     1   27.975911\n",
       "5   238   26.779136\n",
       "6   140   23.520898\n",
       "7    14   22.232264\n",
       "8    16   21.591054\n",
       "9   162   18.283386"
      ]
     },
     "execution_count": 10,
     "metadata": {},
     "output_type": "execute_result"
    }
   ],
   "source": [
    "# TODO:\n",
    "# Output 10 tuples using this cell.\n",
    "# Worth 5 points plus validates your pagerank\n",
    "    \n",
    "# YOUR CODE HERE\n",
    "pr = pagerank(M, 0.85, 15)\n",
    "ids = np.argsort(pr)[::-1]\n",
    "pr_sorted = np.sort(pr)[::-1]\n",
    "best_pages_df = pd.DataFrame({'id':ids[0:10],'pagerank':pr_sorted[0:10]})\n",
    "best_pages_df"
   ]
  },
  {
   "cell_type": "code",
   "execution_count": 11,
   "metadata": {},
   "outputs": [],
   "source": [
    "if best_pages_df.columns[0] != 'id' or best_pages_df.columns[1] != 'pagerank':\n",
    "    raise ValueError('Incorrect column names')"
   ]
  },
  {
   "cell_type": "code",
   "execution_count": 12,
   "metadata": {},
   "outputs": [],
   "source": [
    "if best_pages_df.shape[0] != 10:\n",
    "    raise ValueError('There should be 10 rows in best_pages_df')"
   ]
  },
  {
   "cell_type": "code",
   "execution_count": null,
   "metadata": {},
   "outputs": [],
   "source": []
  },
  {
   "cell_type": "code",
   "execution_count": 13,
   "metadata": {},
   "outputs": [],
   "source": [
    "if len(np.where(best_pages_df['id'] == 0)[0]) != 1:\n",
    "    raise ValueError('')"
   ]
  },
  {
   "cell_type": "code",
   "execution_count": null,
   "metadata": {},
   "outputs": [],
   "source": []
  },
  {
   "cell_type": "code",
   "execution_count": null,
   "metadata": {},
   "outputs": [],
   "source": []
  },
  {
   "cell_type": "code",
   "execution_count": null,
   "metadata": {},
   "outputs": [],
   "source": []
  }
 ],
 "metadata": {
  "kernelspec": {
   "display_name": "Python 3",
   "language": "python",
   "name": "python3"
  },
  "language_info": {
   "codemirror_mode": {
    "name": "ipython",
    "version": 3
   },
   "file_extension": ".py",
   "mimetype": "text/x-python",
   "name": "python",
   "nbconvert_exporter": "python",
   "pygments_lexer": "ipython3",
   "version": "3.6.3"
  }
 },
 "nbformat": 4,
 "nbformat_minor": 1
}
